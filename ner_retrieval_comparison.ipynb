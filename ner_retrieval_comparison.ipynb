{
 "cells": [
  {
   "cell_type": "code",
   "execution_count": 12,
   "id": "701dacf7-bc59-470e-9310-16b2884c4586",
   "metadata": {},
   "outputs": [],
   "source": [
    "import query_processing_spacy.query_processing_spacy as qp"
   ]
  },
  {
   "cell_type": "code",
   "execution_count": 13,
   "id": "0838144c-4305-4b92-b089-c109d6be7199",
   "metadata": {},
   "outputs": [
    {
     "data": {
      "text/plain": [
       "['Apple', '40 million', 'Google']"
      ]
     },
     "execution_count": 13,
     "metadata": {},
     "output_type": "execute_result"
    }
   ],
   "source": [
    "example = 'Have Apple stocks risen 40 million and what about Google stock?'\n",
    "\n",
    "qp.get_ents(example)"
   ]
  },
  {
   "cell_type": "code",
   "execution_count": null,
   "id": "875b25c5-89d7-4eed-a9fe-1bfcc28085cd",
   "metadata": {},
   "outputs": [],
   "source": []
  }
 ],
 "metadata": {
  "kernelspec": {
   "display_name": "Python [conda env:base] *",
   "language": "python",
   "name": "conda-base-py"
  },
  "language_info": {
   "codemirror_mode": {
    "name": "ipython",
    "version": 3
   },
   "file_extension": ".py",
   "mimetype": "text/x-python",
   "name": "python",
   "nbconvert_exporter": "python",
   "pygments_lexer": "ipython3",
   "version": "3.13.5"
  }
 },
 "nbformat": 4,
 "nbformat_minor": 5
}
