{
 "cells": [
  {
   "cell_type": "code",
   "execution_count": 7,
   "metadata": {
    "colab": {
     "base_uri": "https://localhost:8080/"
    },
    "id": "HsUPUuaU3Ek8",
    "outputId": "dfaad0eb-749b-41f9-8808-594d3745a0a7"
   },
   "outputs": [
    {
     "name": "stdout",
     "output_type": "stream",
     "text": [
      "Requirement already satisfied: faiss_cpu in /Users/shreejith/miniconda3/envs/av/lib/python3.12/site-packages (1.11.0)\n",
      "Requirement already satisfied: numpy<3.0,>=1.25.0 in /Users/shreejith/miniconda3/envs/av/lib/python3.12/site-packages (from faiss_cpu) (1.26.4)\n",
      "Requirement already satisfied: packaging in /Users/shreejith/miniconda3/envs/av/lib/python3.12/site-packages (from faiss_cpu) (24.1)\n",
      "Collecting python-dotenv\n",
      "  Downloading python_dotenv-1.1.1-py3-none-any.whl.metadata (24 kB)\n",
      "Downloading python_dotenv-1.1.1-py3-none-any.whl (20 kB)\n",
      "Installing collected packages: python-dotenv\n",
      "Successfully installed python-dotenv-1.1.1\n"
     ]
    }
   ],
   "source": [
    "!pip install faiss_cpu\n",
    "!pip install python-dotenv"
   ]
  },
  {
   "cell_type": "code",
   "execution_count": 13,
   "metadata": {
    "id": "Y6NtXfMz1HMR"
   },
   "outputs": [],
   "source": [
    "import os\n",
    "import pickle\n",
    "import faiss\n",
    "import numpy as np\n",
    "from dotenv import load_dotenv\n",
    "from openai import OpenAI\n",
    "\n",
    "# Load environment variables from the .env file\n",
    "load_dotenv()\n",
    "\n",
    "# Get API key from the environment\n",
    "openai_api_key = os.getenv(\"OPENAI_API_KEY\")\n",
    "\n",
    "# Initialize OpenAI client\n",
    "client = OpenAI(api_key=openai_api_key)\n",
    "\n",
    "# Load FAISS index\n",
    "index = faiss.read_index(\"knowledge_index.faiss\")\n",
    "\n",
    "# Load chunks from pickle\n",
    "with open(\"chunks_new.pkl\", \"rb\") as f:\n",
    "    chunks = pickle.load(f)"
   ]
  },
  {
   "cell_type": "code",
   "execution_count": 14,
   "metadata": {
    "id": "J8OZiO2S2HXW"
   },
   "outputs": [
    {
     "data": {
      "text/plain": [
       "['=== Formal science === Formal science – branches of knowledge that are concerned with formal systems, such as those under the branches of logic, mathematics, computer science, statistics, and some aspects of linguistics. Unlike other sciences, the formal sciences are not concerned with the validity of theories based on observations in the real world, but instead with the properties of formal systems based on definitions and rules.',\n",
       " 'Branches of natural science (also known as the natural sciences)',\n",
       " 'Branches of formal science (also known as the formal sciences)',\n",
       " \"=== Natural science === Natural science (outline) – a major branch of science that tries to explain and predict nature's phenomena, based on empirical evidence. In natural science, hypotheses must be verified scientifically to be regarded as scientific theory. Validity, accuracy, and social mechanisms ensuring quality control, such as peer review and repeatability of findings, are among the criteria and methods used for this purpose. Natural science can be broken into two main branches: biology and physical science. Each of these branches, and all of their sub-branches, are referred to as natural sciences.\",\n",
       " 'Internet Encyclopedia of Philosophy – a peer-reviewed online encyclopedia of philosophy Stanford Encyclopedia of Philosophy – an online encyclopedia of philosophy maintained by Stanford University PhilPapers – a comprehensive directory of online philosophical articles and books by academic philosophers Internet Philosophy Ontology Project – a model of relationships between philosophical ideas, thinkers, and journals']"
      ]
     },
     "execution_count": 14,
     "metadata": {},
     "output_type": "execute_result"
    }
   ],
   "source": [
    "def retrieve_relevant_chunks(query, index, chunks, k=5, model=\"text-embedding-3-small\"):\n",
    "    response = client.embeddings.create(\n",
    "        input=[query],\n",
    "        model=model\n",
    "    )\n",
    "    query_vector = np.array(response.data[0].embedding, dtype='float32').reshape(1, -1)\n",
    "\n",
    "    D, I = index.search(query_vector, k)\n",
    "    return [chunks[i] for i in I[0]]\n",
    "\n",
    "retrieve_relevant_chunks(\"What is the capital of France?\", index, chunks)"
   ]
  },
  {
   "cell_type": "code",
   "execution_count": null,
   "metadata": {},
   "outputs": [],
   "source": []
  }
 ],
 "metadata": {
  "colab": {
   "provenance": []
  },
  "kernelspec": {
   "display_name": "Python 3 (ipykernel)",
   "language": "python",
   "name": "python3"
  },
  "language_info": {
   "codemirror_mode": {
    "name": "ipython",
    "version": 3
   },
   "file_extension": ".py",
   "mimetype": "text/x-python",
   "name": "python",
   "nbconvert_exporter": "python",
   "pygments_lexer": "ipython3",
   "version": "3.12.7"
  }
 },
 "nbformat": 4,
 "nbformat_minor": 4
}
