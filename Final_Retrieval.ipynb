{
 "cells": [
  {
   "cell_type": "code",
   "execution_count": 1,
   "metadata": {
    "colab": {
     "base_uri": "https://localhost:8080/"
    },
    "id": "HsUPUuaU3Ek8",
    "outputId": "dfaad0eb-749b-41f9-8808-594d3745a0a7"
   },
   "outputs": [
    {
     "name": "stdout",
     "output_type": "stream",
     "text": [
      "Requirement already satisfied: faiss_cpu in /Users/shreejith/miniconda3/envs/av/lib/python3.12/site-packages (1.11.0)\n",
      "Requirement already satisfied: numpy<3.0,>=1.25.0 in /Users/shreejith/miniconda3/envs/av/lib/python3.12/site-packages (from faiss_cpu) (1.26.4)\n",
      "Requirement already satisfied: packaging in /Users/shreejith/miniconda3/envs/av/lib/python3.12/site-packages (from faiss_cpu) (24.1)\n",
      "Requirement already satisfied: python-dotenv in /Users/shreejith/miniconda3/envs/av/lib/python3.12/site-packages (1.1.1)\n"
     ]
    }
   ],
   "source": [
    "!pip install faiss_cpu\n",
    "!pip install python-dotenv"
   ]
  },
  {
   "cell_type": "code",
   "execution_count": 2,
   "metadata": {
    "id": "Y6NtXfMz1HMR"
   },
   "outputs": [],
   "source": [
    "import os\n",
    "import pickle\n",
    "import faiss\n",
    "import numpy as np\n",
    "from dotenv import load_dotenv\n",
    "from openai import OpenAI\n",
    "\n",
    "# Load environment variables from the .env file\n",
    "load_dotenv()\n",
    "\n",
    "# Get API key from the environment\n",
    "openai_api_key = os.getenv(\"OPENAI_API_KEY\")\n",
    "\n",
    "# Initialize OpenAI client\n",
    "client = OpenAI(api_key=openai_api_key)\n",
    "\n",
    "# Load FAISS index\n",
    "index = faiss.read_index(\"knowledge_index.faiss\")\n",
    "\n",
    "# Load chunks from pickle\n",
    "with open(\"chunks_new.pkl\", \"rb\") as f:\n",
    "    chunks = pickle.load(f)"
   ]
  },
  {
   "cell_type": "code",
   "execution_count": 18,
   "metadata": {
    "id": "J8OZiO2S2HXW"
   },
   "outputs": [],
   "source": [
    "def retrieve_relevant_chunks(query, index, chunks, k=5, model=\"text-embedding-3-small\", min_score=0.7):\n",
    "    response = client.embeddings.create(\n",
    "        input=[query],\n",
    "        model=model\n",
    "    )\n",
    "    query_vector = np.array(response.data[0].embedding, dtype='float32').reshape(1, -1)\n",
    "\n",
    "    distances, indices = index.search(query_vector, k)\n",
    "    \n",
    "    results = []\n",
    "    for dist, idx in zip(distances[0], indices[0]):\n",
    "        if dist >= min_score:\n",
    "            results.append((dist, chunks[idx]))\n",
    "    \n",
    "    return results"
   ]
  },
  {
   "cell_type": "code",
   "execution_count": 22,
   "metadata": {},
   "outputs": [
    {
     "name": "stdout",
     "output_type": "stream",
     "text": [
      "Score: 1.1647 | Chunk: === Abuse of rank ===\n",
      "\n",
      "Score: 1.2457 | Chunk: Bullying is repeated acts over time that involves a real or perceived imbalance of power with the more powerful individual or group attacking those who are less powerful. Bullying may consist of three basic types of abuse – verbal, physical and emotional. It typically involves subtle methods of coercion such as intimidation. Bullying can be defined in many different ways. Although the UK currently has no legal definition of bullying, some US states have laws against it. Bullying is usually done to coerce others by fear or threat.\n",
      "\n",
      "Score: 1.2638 | Chunk: A cause of action in tort arising from one party making a malicious and deliberate misuse or perversion of regularly issued court process (civil or criminal) not justified by the underlying legal action.\n",
      "\n",
      "Score: 1.2813 | Chunk: === Child abuse ===\n",
      "\n",
      "Score: 1.3210 | Chunk: === Pool F ===\n",
      "\n"
     ]
    }
   ],
   "source": [
    "appendix = \"Google Stock, Apple Stock Rise 40 Million\"\n",
    "results = retrieve_relevant_chunks(appendix, index, chunks)\n",
    "for score, chunk in results:\n",
    "    print(f\"Score: {score:.4f} | Chunk: {chunk}\\n\")"
   ]
  },
  {
   "cell_type": "code",
   "execution_count": null,
   "metadata": {},
   "outputs": [],
   "source": []
  }
 ],
 "metadata": {
  "colab": {
   "provenance": []
  },
  "kernelspec": {
   "display_name": "Python 3 (ipykernel)",
   "language": "python",
   "name": "python3"
  },
  "language_info": {
   "codemirror_mode": {
    "name": "ipython",
    "version": 3
   },
   "file_extension": ".py",
   "mimetype": "text/x-python",
   "name": "python",
   "nbconvert_exporter": "python",
   "pygments_lexer": "ipython3",
   "version": "3.12.7"
  }
 },
 "nbformat": 4,
 "nbformat_minor": 4
}
