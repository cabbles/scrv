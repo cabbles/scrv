{
 "cells": [
  {
   "cell_type": "code",
   "execution_count": 1,
   "id": "701dacf7-bc59-470e-9310-16b2884c4586",
   "metadata": {},
   "outputs": [],
   "source": [
    "import sys\n",
    "import os\n",
    "\n",
    "parent_dir = os.path.abspath(os.path.join(os.getcwd(), '..'))\n",
    "if parent_dir not in sys.path:\n",
    "    sys.path.append(parent_dir)"
   ]
  },
  {
   "cell_type": "code",
   "execution_count": 2,
   "id": "d4bd3c20-655a-473e-ac28-425c0ea2e56e",
   "metadata": {},
   "outputs": [],
   "source": [
    "import query_processing.query_processing_spacy as qp"
   ]
  },
  {
   "cell_type": "code",
   "execution_count": 3,
   "id": "0838144c-4305-4b92-b089-c109d6be7199",
   "metadata": {},
   "outputs": [
    {
     "data": {
      "text/plain": [
       "['Apple', '40 million', 'Google']"
      ]
     },
     "execution_count": 3,
     "metadata": {},
     "output_type": "execute_result"
    }
   ],
   "source": [
    "example = 'Have Apple stocks risen 40 million and what about Google stock?'\n",
    "\n",
    "qp.get_ents(example)"
   ]
  },
  {
   "cell_type": "code",
   "execution_count": null,
   "id": "9f02e0ee-20ed-49d7-998a-b843ec5eb8de",
   "metadata": {},
   "outputs": [],
   "source": []
  }
 ],
 "metadata": {
  "kernelspec": {
   "display_name": "Python [conda env:base] *",
   "language": "python",
   "name": "conda-base-py"
  },
  "language_info": {
   "codemirror_mode": {
    "name": "ipython",
    "version": 3
   },
   "file_extension": ".py",
   "mimetype": "text/x-python",
   "name": "python",
   "nbconvert_exporter": "python",
   "pygments_lexer": "ipython3",
   "version": "3.13.5"
  }
 },
 "nbformat": 4,
 "nbformat_minor": 5
}
