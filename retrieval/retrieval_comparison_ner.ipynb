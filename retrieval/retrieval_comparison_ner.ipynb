{
 "cells": [
  {
   "cell_type": "markdown",
   "id": "3d7a15eb-5b45-482c-941e-e99a193184d5",
   "metadata": {},
   "source": [
    "# setup\n",
    "imports and examples"
   ]
  },
  {
   "cell_type": "code",
   "execution_count": 1,
   "id": "d4bd3c20-655a-473e-ac28-425c0ea2e56e",
   "metadata": {},
   "outputs": [],
   "source": [
    "import query_processing.query_processing_spacy as qp"
   ]
  },
  {
   "cell_type": "code",
   "execution_count": 2,
   "id": "c3b434c3-72b2-443a-89e6-89ab977e1f8d",
   "metadata": {},
   "outputs": [],
   "source": [
    "from itertools import chain\n",
    "import re"
   ]
  },
  {
   "cell_type": "code",
   "execution_count": 3,
   "id": "0838144c-4305-4b92-b089-c109d6be7199",
   "metadata": {},
   "outputs": [
    {
     "data": {
      "text/plain": [
       "['Apple', '40 million', 'Google']"
      ]
     },
     "execution_count": 3,
     "metadata": {},
     "output_type": "execute_result"
    }
   ],
   "source": [
    "example = qp.example # Have Apple stocks risen 40 million and what about Google stock?\n",
    "qp.get_ents(example)"
   ]
  },
  {
   "cell_type": "code",
   "execution_count": 4,
   "id": "9f02e0ee-20ed-49d7-998a-b843ec5eb8de",
   "metadata": {},
   "outputs": [],
   "source": [
    "generation_ex = 'Apple stocks have risen 35 million following the dissolution of Northwestern Mongolia'\n",
    "retrieved_ex = 'Apple stocks have not changed significantly and are not related to Northwestern Mongolia.'"
   ]
  },
  {
   "cell_type": "markdown",
   "id": "ebcbe6a9-3518-4900-bca8-dbfe818c592e",
   "metadata": {},
   "source": [
    "# general\n",
    "general fns"
   ]
  },
  {
   "cell_type": "code",
   "execution_count": 5,
   "id": "93b49c2d-c436-45c0-8a62-43366504bd7d",
   "metadata": {},
   "outputs": [],
   "source": [
    "# returns commonalities and differences between two lists\n",
    "\n",
    "def compare(gen, retr):\n",
    "    shared = [ge for ge in gen if ge in retr]\n",
    "    diff = [ge for ge in gen if ge not in retr] + [re for re in retr if re not in gen]\n",
    "    return shared, diff"
   ]
  },
  {
   "cell_type": "code",
   "execution_count": 6,
   "id": "0b2accb1-340b-4adc-8fed-d5a822d3ee68",
   "metadata": {},
   "outputs": [],
   "source": [
    "# groups items in a list together if they are in the groups list\n",
    "\n",
    "def group_list(l, groups):\n",
    "    return qp.split_preserve(' '.join(l), groups)"
   ]
  },
  {
   "cell_type": "code",
   "execution_count": 7,
   "id": "cf1488dc-e65f-4e69-8375-d39890cb85ad",
   "metadata": {},
   "outputs": [
    {
     "data": {
      "text/plain": [
       "['apple',\n",
       " 'stock',\n",
       " 'have',\n",
       " 'rise',\n",
       " '35 million',\n",
       " 'follow',\n",
       " 'the',\n",
       " 'dissolution',\n",
       " 'of',\n",
       " 'Northwestern Mongolia']"
      ]
     },
     "execution_count": 7,
     "metadata": {},
     "output_type": "execute_result"
    }
   ],
   "source": [
    "group_list(qp.get_lemmas(generation_ex), qp.get_ents(generation_ex))"
   ]
  },
  {
   "cell_type": "code",
   "execution_count": 8,
   "id": "41324f6f-a6dd-49de-bed6-89ebdb4f5fea",
   "metadata": {},
   "outputs": [],
   "source": [
    "def clean_list(l):\n",
    "    return [qp.clean(i) for i in l]"
   ]
  },
  {
   "cell_type": "markdown",
   "id": "753265a1-ce5e-48d7-8067-4c2ec306b6d9",
   "metadata": {},
   "source": [
    "# entity and word comparison"
   ]
  },
  {
   "cell_type": "code",
   "execution_count": 9,
   "id": "efb4f8b3-c0c3-4377-b7af-a7e8516a412c",
   "metadata": {},
   "outputs": [],
   "source": [
    "def compare_ents(gen, retr):\n",
    "    return compare(qp.get_ents(gen), qp.get_ents(retr))"
   ]
  },
  {
   "cell_type": "code",
   "execution_count": 10,
   "id": "f70ff2c1-b71b-4939-b785-e86ef11ff53a",
   "metadata": {},
   "outputs": [
    {
     "data": {
      "text/plain": [
       "(['Apple', 'Northwestern Mongolia'], ['35 million'])"
      ]
     },
     "execution_count": 10,
     "metadata": {},
     "output_type": "execute_result"
    }
   ],
   "source": [
    "compare_ents(generation_ex, retrieved_ex)"
   ]
  },
  {
   "cell_type": "code",
   "execution_count": 11,
   "id": "b88c6d67-c4e6-47ab-8cc1-bbe178eab2de",
   "metadata": {},
   "outputs": [],
   "source": [
    "# compares query transforms of two strings\n",
    "# aka compares main points\n",
    "\n",
    "def compare_transform(gen, retr):\n",
    "    gen_t = list(chain.from_iterable(qp.query_extract(q) for q in qp.query_split(gen)))\n",
    "    retr_t = list(chain.from_iterable(qp.query_extract(q) for q in qp.query_split(retr)))\n",
    "\n",
    "    # group lemmas into entities prior to comparison\n",
    "    gen_t = group_list(gen_t, clean_list(qp.get_ents(gen)))\n",
    "    retr_t = group_list(retr_t, clean_list(qp.get_ents(retr)))\n",
    "    \n",
    "    return compare(gen_t, retr_t)"
   ]
  },
  {
   "cell_type": "code",
   "execution_count": 12,
   "id": "8bc384a2-200a-4894-bef5-63782bc1d18d",
   "metadata": {},
   "outputs": [
    {
     "data": {
      "text/plain": [
       "(['apple', 'stock', 'northwestern mongolia'],\n",
       " ['rise',\n",
       "  '35 million',\n",
       "  'follow',\n",
       "  'dissolution',\n",
       "  'not',\n",
       "  'change',\n",
       "  'significantly',\n",
       "  'not',\n",
       "  'relate'])"
      ]
     },
     "execution_count": 12,
     "metadata": {},
     "output_type": "execute_result"
    }
   ],
   "source": [
    "compare_transform(generation_ex, retrieved_ex)"
   ]
  },
  {
   "cell_type": "markdown",
   "id": "5698dbe3-da7d-4228-9e04-7d5659398073",
   "metadata": {},
   "source": [
    "# numbers comparison"
   ]
  },
  {
   "cell_type": "code",
   "execution_count": 13,
   "id": "2d4831ea-de33-41e7-bbcb-dddcc3779dd5",
   "metadata": {},
   "outputs": [],
   "source": [
    "# gets numbers + units mentioned in a text\n",
    "\n",
    "def get_figures(text):\n",
    "    text = ' '.join(qp.filter_include(text, [], ['NOUN', 'PROPN', 'NUM']))\n",
    "    short = re.findall(r'\\b([-+]?(?:\\d{1,3}(?:,\\d{3})*|\\d+)(?:\\.\\d+)?(?:[eE][-+]?\\d+)?)\\s*([a-zA-Z%°]+)',\n",
    "                       text)\n",
    "    full = re.findall(r'(\\d+\\.?\\d*(?:e[+-]?\\d+)?)\\s*([^\\d].*?)(?=\\s*\\d+|$)', text)\n",
    "    return list(short), list(full) # be careful to include index of whether you need short or full units"
   ]
  },
  {
   "cell_type": "code",
   "execution_count": 14,
   "id": "a6375266-0cb0-483e-9f0e-e69e3e9e356f",
   "metadata": {},
   "outputs": [
    {
     "data": {
      "text/plain": [
       "([('12', 'cows'), ('18', 'grocery'), ('4.8', 'pounds'), ('3e12', 'bottles')],\n",
       " [('12', 'cows'),\n",
       "  ('18', 'grocery stores'),\n",
       "  ('4.8', 'pounds beef'),\n",
       "  ('3e12', 'bottles milk')])"
      ]
     },
     "execution_count": 14,
     "metadata": {},
     "output_type": "execute_result"
    }
   ],
   "source": [
    "get_figures('12 cows went to 18 grocery stores to buy 4.8 pounds of beef and 3e12 bottles of milk.')"
   ]
  },
  {
   "cell_type": "code",
   "execution_count": 15,
   "id": "aad46ae3-b346-4dd9-83c3-b7b885c6fd03",
   "metadata": {},
   "outputs": [],
   "source": [
    "def compare_numbers(gen, retr):\n",
    "    gen_nums, retr_nums = [float(ge[0]) for ge in gen], [float(re[0]) for re in retr]\n",
    "    return compare(gen_nums, retr_nums)"
   ]
  },
  {
   "cell_type": "code",
   "execution_count": 16,
   "id": "1c985014-25f5-4b71-a808-763f87808290",
   "metadata": {},
   "outputs": [
    {
     "data": {
      "text/plain": [
       "([], [45.0, 12.2])"
      ]
     },
     "execution_count": 16,
     "metadata": {},
     "output_type": "execute_result"
    }
   ],
   "source": [
    "compare_numbers(get_figures('apple loses 45 billion')[0],\n",
    "                get_figures('google shrinks 12.2%')[0])"
   ]
  },
  {
   "cell_type": "code",
   "execution_count": 17,
   "id": "a744ec52-f92d-4322-a7ab-fd935054ba74",
   "metadata": {},
   "outputs": [],
   "source": [
    "def compare_units(gen, retr):\n",
    "    gen_u, retr_u = [ge[1] for ge in gen], [re[1] for re in retr]\n",
    "    return compare(gen_u, retr_u)"
   ]
  },
  {
   "cell_type": "code",
   "execution_count": 18,
   "id": "d6e94dab-ef40-42b2-a30d-60fc75b4d65f",
   "metadata": {},
   "outputs": [
    {
     "data": {
      "text/plain": [
       "([], ['billion', '%'])"
      ]
     },
     "execution_count": 18,
     "metadata": {},
     "output_type": "execute_result"
    }
   ],
   "source": [
    "compare_units(get_figures('apple loses 45 billion')[0],\n",
    "              get_figures('google shrinks 12.2%')[0])"
   ]
  },
  {
   "cell_type": "code",
   "execution_count": 19,
   "id": "da71e039-6aa7-4145-a67b-1c75f04e5041",
   "metadata": {},
   "outputs": [
    {
     "data": {
      "text/plain": [
       "([], [('45', 'billion'), ('12.2', '%')])"
      ]
     },
     "execution_count": 19,
     "metadata": {},
     "output_type": "execute_result"
    }
   ],
   "source": [
    "compare(get_figures('apple loses 45 billion')[0],\n",
    "        get_figures('google shrinks 12.2%')[0])"
   ]
  },
  {
   "cell_type": "markdown",
   "id": "7d8b4831-6aba-4332-bc97-72e4cd8fb1b1",
   "metadata": {},
   "source": [
    "# metrics\n",
    "output interpretation"
   ]
  },
  {
   "cell_type": "code",
   "execution_count": 20,
   "id": "28ac1522-bfd8-4c64-9e97-282b5e25df07",
   "metadata": {},
   "outputs": [],
   "source": [
    "compare_ex = compare_transform(generation_ex, retrieved_ex)"
   ]
  },
  {
   "cell_type": "code",
   "execution_count": 21,
   "id": "45cac6d9-5c55-444c-8a1d-b292597236f1",
   "metadata": {},
   "outputs": [],
   "source": [
    "def print_comp(comp):\n",
    "    print('shared:', comp[0])\n",
    "    print('different:', comp[1])"
   ]
  },
  {
   "cell_type": "code",
   "execution_count": 22,
   "id": "8fb55e75-f595-49b6-b511-1d4a6fb679df",
   "metadata": {},
   "outputs": [],
   "source": [
    "# change this\n",
    "\n",
    "def score(shared_pct):\n",
    "        return 'idk'"
   ]
  },
  {
   "cell_type": "code",
   "execution_count": 23,
   "id": "5458f867-d1be-4438-a2b8-a564b7f79b22",
   "metadata": {},
   "outputs": [],
   "source": [
    "def numerical_comp(comp):\n",
    "    shared_n, diff_n = len(comp[0]), len(comp[1])\n",
    "    total = shared_n + diff_n\n",
    "    return {'shared' : shared_n,\n",
    "            'different' : diff_n,\n",
    "            'proportion' : shared_n / diff_n if diff_n else 1,\n",
    "            'shared %' : shared_n / total * 100 if total else 0,\n",
    "            'different %' : diff_n / total * 100 if total else 0,\n",
    "            'score' : score(shared_n / total * 100 if total else 0)}"
   ]
  },
  {
   "cell_type": "code",
   "execution_count": 24,
   "id": "c06c35ff-16e4-49c4-8610-f51a3d4bfd09",
   "metadata": {},
   "outputs": [
    {
     "data": {
      "text/plain": [
       "{'shared': 3,\n",
       " 'different': 9,\n",
       " 'proportion': 0.3333333333333333,\n",
       " 'shared %': 25.0,\n",
       " 'different %': 75.0,\n",
       " 'score': 'idk'}"
      ]
     },
     "execution_count": 24,
     "metadata": {},
     "output_type": "execute_result"
    }
   ],
   "source": [
    "numerical_comp(compare_ex)"
   ]
  },
  {
   "cell_type": "code",
   "execution_count": null,
   "id": "561de487-0ea6-4abd-89bc-f7cff5be691a",
   "metadata": {},
   "outputs": [],
   "source": []
  }
 ],
 "metadata": {
  "kernelspec": {
   "display_name": "Python [conda env:base] *",
   "language": "python",
   "name": "conda-base-py"
  },
  "language_info": {
   "codemirror_mode": {
    "name": "ipython",
    "version": 3
   },
   "file_extension": ".py",
   "mimetype": "text/x-python",
   "name": "python",
   "nbconvert_exporter": "python",
   "pygments_lexer": "ipython3",
   "version": "3.13.5"
  }
 },
 "nbformat": 4,
 "nbformat_minor": 5
}
