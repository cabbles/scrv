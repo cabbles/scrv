{
 "cells": [
  {
   "cell_type": "code",
   "execution_count": 1,
   "id": "701dacf7-bc59-470e-9310-16b2884c4586",
   "metadata": {},
   "outputs": [],
   "source": [
    "import sys\n",
    "import os\n",
    "\n",
    "parent_dir = os.path.abspath(os.path.join(os.getcwd(), '..'))\n",
    "if parent_dir not in sys.path:\n",
    "    sys.path.append(parent_dir)"
   ]
  },
  {
   "cell_type": "code",
   "execution_count": 2,
   "id": "d4bd3c20-655a-473e-ac28-425c0ea2e56e",
   "metadata": {},
   "outputs": [],
   "source": [
    "import query_processing.query_processing_spacy as qp"
   ]
  },
  {
   "cell_type": "code",
   "execution_count": 3,
   "id": "c3b434c3-72b2-443a-89e6-89ab977e1f8d",
   "metadata": {},
   "outputs": [],
   "source": [
    "from itertools import chain"
   ]
  },
  {
   "cell_type": "code",
   "execution_count": 4,
   "id": "0838144c-4305-4b92-b089-c109d6be7199",
   "metadata": {},
   "outputs": [
    {
     "data": {
      "text/plain": [
       "['Apple', '40 million', 'Google']"
      ]
     },
     "execution_count": 4,
     "metadata": {},
     "output_type": "execute_result"
    }
   ],
   "source": [
    "example = qp.example # Have Apple stocks risen 40 million and what about Google stock?\n",
    "qp.get_ents(example)"
   ]
  },
  {
   "cell_type": "code",
   "execution_count": 22,
   "id": "9f02e0ee-20ed-49d7-998a-b843ec5eb8de",
   "metadata": {},
   "outputs": [],
   "source": [
    "generation_ex = 'Apple stocks have risen 35 million following the dissolution of Northwestern Mongolia'\n",
    "retrieved_ex = 'Apple stocks have not changed significantly and are not related to Northwestern Mongolia.'"
   ]
  },
  {
   "cell_type": "code",
   "execution_count": 23,
   "id": "efb4f8b3-c0c3-4377-b7af-a7e8516a412c",
   "metadata": {},
   "outputs": [],
   "source": [
    "def compare_ents(gen, retr):\n",
    "    gen_ents, retr_ents = qp.get_ents(gen), qp.get_ents(retr)\n",
    "    shared = set([ge for ge in gen_ents if ge in retr_ents])\n",
    "    diff = set([ge for ge in gen_ents if ge not in retr_ents] + [re for re in retr_ents if re not in gen_ents])\n",
    "    return shared, diff"
   ]
  },
  {
   "cell_type": "code",
   "execution_count": 24,
   "id": "f70ff2c1-b71b-4939-b785-e86ef11ff53a",
   "metadata": {},
   "outputs": [
    {
     "data": {
      "text/plain": [
       "({'Apple', 'Northwestern Mongolia'}, {'35 million'})"
      ]
     },
     "execution_count": 24,
     "metadata": {},
     "output_type": "execute_result"
    }
   ],
   "source": [
    "compare_ents(generation_ex, retrieved_ex)"
   ]
  },
  {
   "cell_type": "code",
   "execution_count": 39,
   "id": "b88c6d67-c4e6-47ab-8cc1-bbe178eab2de",
   "metadata": {},
   "outputs": [],
   "source": [
    "def compare_transform(gen, retr):\n",
    "    gen_t = list(chain.from_iterable(qp.query_extract(q) for q in qp.query_split(gen)))\n",
    "    retr_t = list(chain.from_iterable(qp.query_extract(q) for q in qp.query_split(retr)))\n",
    "    shared = [gt for gt in gen_t if gt in retr_t]\n",
    "    diff = [gt for gt in gen_t if gt not in retr_t] + [rt for rt in retr_t if rt not in gen_t]\n",
    "    return shared, diff"
   ]
  },
  {
   "cell_type": "code",
   "execution_count": 40,
   "id": "8bc384a2-200a-4894-bef5-63782bc1d18d",
   "metadata": {},
   "outputs": [
    {
     "data": {
      "text/plain": [
       "(['apple', 'stock', 'northwestern', 'mongolia'],\n",
       " ['rise',\n",
       "  '35',\n",
       "  'million',\n",
       "  'follow',\n",
       "  'dissolution',\n",
       "  'not',\n",
       "  'change',\n",
       "  'significantly',\n",
       "  'not',\n",
       "  'relate'])"
      ]
     },
     "execution_count": 40,
     "metadata": {},
     "output_type": "execute_result"
    }
   ],
   "source": [
    "compare_transform(generation_ex, retrieved_ex)"
   ]
  },
  {
   "cell_type": "code",
   "execution_count": null,
   "id": "2d4831ea-de33-41e7-bbcb-dddcc3779dd5",
   "metadata": {},
   "outputs": [],
   "source": []
  }
 ],
 "metadata": {
  "kernelspec": {
   "display_name": "Python [conda env:base] *",
   "language": "python",
   "name": "conda-base-py"
  },
  "language_info": {
   "codemirror_mode": {
    "name": "ipython",
    "version": 3
   },
   "file_extension": ".py",
   "mimetype": "text/x-python",
   "name": "python",
   "nbconvert_exporter": "python",
   "pygments_lexer": "ipython3",
   "version": "3.13.5"
  }
 },
 "nbformat": 4,
 "nbformat_minor": 5
}
