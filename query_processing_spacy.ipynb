{
  "nbformat": 4,
  "nbformat_minor": 0,
  "metadata": {
    "colab": {
      "provenance": [],
      "toc_visible": true,
      "authorship_tag": "ABX9TyNuAw7/hsWOaOVYNwVrLH2H",
      "include_colab_link": true
    },
    "kernelspec": {
      "name": "python3",
      "display_name": "Python 3"
    },
    "language_info": {
      "name": "python"
    }
  },
  "cells": [
    {
      "cell_type": "markdown",
      "metadata": {
        "id": "view-in-github",
        "colab_type": "text"
      },
      "source": [
        "<a href=\"https://colab.research.google.com/github/cabbles/scrv/blob/main/query_processing_spacy.ipynb\" target=\"_parent\"><img src=\"https://colab.research.google.com/assets/colab-badge.svg\" alt=\"Open In Colab\"/></a>"
      ]
    },
    {
      "cell_type": "markdown",
      "source": [
        "# setup"
      ],
      "metadata": {
        "id": "Mpf6OEUFxmcA"
      }
    },
    {
      "cell_type": "code",
      "source": [
        "import os\n",
        "import numpy as np\n",
        "import string\n",
        "\n",
        "try: import spacy\n",
        "except ImportError:\n",
        "  os.system('pip install -U spacy')\n",
        "  os.system('python -m spacy download en_core_web_sm')\n",
        "  import spacy"
      ],
      "metadata": {
        "id": "XyTbU2BFmZQy"
      },
      "execution_count": 1,
      "outputs": []
    },
    {
      "cell_type": "code",
      "source": [
        "nlp = spacy.load('en_core_web_sm')"
      ],
      "metadata": {
        "id": "qfVhtPOQg9hQ"
      },
      "execution_count": 2,
      "outputs": []
    },
    {
      "cell_type": "code",
      "source": [
        "example = 'Have Apple stocks risen 40 million and what about Google stock?'"
      ],
      "metadata": {
        "id": "enHEZNiwk0eQ"
      },
      "execution_count": 3,
      "outputs": []
    },
    {
      "cell_type": "markdown",
      "source": [
        "# spacy fns\n",
        "lemmatization, entity extraction, noun phrase extraction"
      ],
      "metadata": {
        "id": "v7_v5sz8xwYd"
      }
    },
    {
      "cell_type": "code",
      "source": [
        "# extract lemmas from text\n",
        "\n",
        "def get_lemmas(text):\n",
        "  doc = nlp(text)\n",
        "  return [token.lemma_ for token in doc]"
      ],
      "metadata": {
        "id": "qtrHBXP2kiWN"
      },
      "execution_count": 4,
      "outputs": []
    },
    {
      "cell_type": "code",
      "source": [
        "get_lemmas(example)"
      ],
      "metadata": {
        "colab": {
          "base_uri": "https://localhost:8080/"
        },
        "id": "gTuwhFbzkxfn",
        "outputId": "a379ea95-b57b-4257-949e-dd9658a278db"
      },
      "execution_count": 5,
      "outputs": [
        {
          "output_type": "execute_result",
          "data": {
            "text/plain": [
              "['have',\n",
              " 'Apple',\n",
              " 'stock',\n",
              " 'rise',\n",
              " '40',\n",
              " 'million',\n",
              " 'and',\n",
              " 'what',\n",
              " 'about',\n",
              " 'Google',\n",
              " 'stock',\n",
              " '?']"
            ]
          },
          "metadata": {},
          "execution_count": 5
        }
      ]
    },
    {
      "cell_type": "code",
      "source": [
        "# extract entities from text\n",
        "\n",
        "def get_ents(text):\n",
        "  doc = nlp(text)\n",
        "  return [ent.text for ent in doc.ents]"
      ],
      "metadata": {
        "id": "Cao8OSt9hb8B"
      },
      "execution_count": 6,
      "outputs": []
    },
    {
      "cell_type": "code",
      "source": [
        "get_ents(example)"
      ],
      "metadata": {
        "colab": {
          "base_uri": "https://localhost:8080/"
        },
        "id": "lrl42ioijThR",
        "outputId": "37c8cd7d-120a-49be-fceb-62ee82336af5"
      },
      "execution_count": 7,
      "outputs": [
        {
          "output_type": "execute_result",
          "data": {
            "text/plain": [
              "['Apple', '40 million', 'Google']"
            ]
          },
          "metadata": {},
          "execution_count": 7
        }
      ]
    },
    {
      "cell_type": "code",
      "source": [
        "# extract noun phrases from text\n",
        "\n",
        "def get_noun_phrases(text):\n",
        "  doc = nlp(text)\n",
        "  return [chunk.text for chunk in doc.noun_chunks]"
      ],
      "metadata": {
        "id": "t5p1RMmCkPNZ"
      },
      "execution_count": 8,
      "outputs": []
    },
    {
      "cell_type": "code",
      "source": [
        "get_noun_phrases(example)"
      ],
      "metadata": {
        "colab": {
          "base_uri": "https://localhost:8080/"
        },
        "id": "P0qPqJw5kczU",
        "outputId": "c1fd6312-f863-494b-f843-fe1872948112"
      },
      "execution_count": 9,
      "outputs": [
        {
          "output_type": "execute_result",
          "data": {
            "text/plain": [
              "['Apple stocks', 'Google stock']"
            ]
          },
          "metadata": {},
          "execution_count": 9
        }
      ]
    },
    {
      "cell_type": "markdown",
      "source": [
        "# other fns\n",
        "cleaning text, filtering"
      ],
      "metadata": {
        "id": "9xIqhkLZx4OS"
      }
    },
    {
      "cell_type": "code",
      "source": [
        "# lower cases, strips, and removes punctuation from text\n",
        "\n",
        "def clean(text):\n",
        "  return text.lower().strip().translate(str.maketrans('', '', string.punctuation))"
      ],
      "metadata": {
        "id": "ErLa8ujvubot"
      },
      "execution_count": 10,
      "outputs": []
    },
    {
      "cell_type": "code",
      "source": [
        "# filters a text only for tokens that are in the filter text OR have a certain part of speech\n",
        "\n",
        "def filter_include(text, filter_txt, filter_pos):\n",
        "  doc = nlp(text)\n",
        "  return [token.text for token in doc if any(token.text in ft for ft in filter_txt) or token.pos_ in filter_pos]\n",
        "  #                                      ^ in filter text                              ^ certain part of speech"
      ],
      "metadata": {
        "id": "mRYTO4E6rRgV"
      },
      "execution_count": 11,
      "outputs": []
    },
    {
      "cell_type": "markdown",
      "source": [
        "# query editing\n",
        "query decomposition, query transformation"
      ],
      "metadata": {
        "id": "BFdJmNtPx-RB"
      }
    },
    {
      "cell_type": "code",
      "source": [
        "# query decomposition\n",
        "# splits query by clauses\n",
        "\n",
        "def query_split(query):\n",
        "  doc = nlp(query)\n",
        "\n",
        "  # coordinating and subordinate conjunctions\n",
        "  conjs = ['CCONJ', 'SCONJ']\n",
        "\n",
        "  result = []\n",
        "  section = []\n",
        "  for token in doc:\n",
        "    if token.pos_ in conjs:\n",
        "      if section: # make sure section is not empty\n",
        "        result.append(' '.join(section))\n",
        "        section = []\n",
        "    else:\n",
        "      section.append(token.text)\n",
        "\n",
        "  if section:\n",
        "    result.append(' '.join(section)) # append final part\n",
        "\n",
        "  return result"
      ],
      "metadata": {
        "id": "YFVHVvHZyDce"
      },
      "execution_count": 12,
      "outputs": []
    },
    {
      "cell_type": "code",
      "source": [
        "query_split(example)"
      ],
      "metadata": {
        "colab": {
          "base_uri": "https://localhost:8080/"
        },
        "id": "elNcztjV0yc9",
        "outputId": "379c06f4-62e7-491a-b2d8-b30352ca63c0"
      },
      "execution_count": 13,
      "outputs": [
        {
          "output_type": "execute_result",
          "data": {
            "text/plain": [
              "['Have Apple stocks risen 40 million', 'what about Google stock ?']"
            ]
          },
          "metadata": {},
          "execution_count": 13
        }
      ]
    },
    {
      "cell_type": "code",
      "source": [
        "# query extraction\n",
        "# takes lemmas and filters for entities and important parts of speech\n",
        "\n",
        "def query_extract(query):\n",
        "  lemmas = get_lemmas(query)\n",
        "  ents = get_ents(query)\n",
        "\n",
        "  important_text = ents\n",
        "  important_pos = ['NOUN', 'PROPN', 'VERB', 'ADJ', 'ADV']\n",
        "\n",
        "  lemmas = list(dict.fromkeys(lemmas)) # eliminates redundant elements\n",
        "  lemmas = filter_include(clean(str(lemmas)),\n",
        "                          important_text,\n",
        "                          important_pos) # filter\n",
        "\n",
        "  return lemmas"
      ],
      "metadata": {
        "id": "KOJWN_erjrdS"
      },
      "execution_count": 14,
      "outputs": []
    },
    {
      "cell_type": "code",
      "source": [
        "query_extract(example)"
      ],
      "metadata": {
        "colab": {
          "base_uri": "https://localhost:8080/"
        },
        "id": "gcZpOcwQw7kO",
        "outputId": "c0b5bdac-9222-4093-e502-97919b9a3a05"
      },
      "execution_count": 15,
      "outputs": [
        {
          "output_type": "execute_result",
          "data": {
            "text/plain": [
              "['apple', 'stock', 'rise', '40', 'million', 'google']"
            ]
          },
          "metadata": {},
          "execution_count": 15
        }
      ]
    },
    {
      "cell_type": "code",
      "source": [
        "for query in query_split(example):\n",
        "  print(' '.join(query_extract(query)))"
      ],
      "metadata": {
        "colab": {
          "base_uri": "https://localhost:8080/"
        },
        "id": "iTqIvAkI2bwo",
        "outputId": "6df28d2a-3c4f-46ad-fe64-df4d2567c37d"
      },
      "execution_count": 16,
      "outputs": [
        {
          "output_type": "stream",
          "name": "stdout",
          "text": [
            "apple stock rise 40 million\n",
            "google stock\n"
          ]
        }
      ]
    }
  ]
}
